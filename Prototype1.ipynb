{
 "cells": [
  {
   "cell_type": "code",
   "execution_count": 3,
   "metadata": {
    "collapsed": false
   },
   "outputs": [],
   "source": [
    "import numpy as np\n",
    "import soundfile as sf\n",
    "from soundfile import SEEK_END\n",
    "import matplotlib.pyplot as plt\n",
    "import math\n",
    "import IPython\n"
   ]
  },
  {
   "cell_type": "code",
   "execution_count": 2,
   "metadata": {
    "collapsed": false
   },
   "outputs": [
    {
     "ename": "SyntaxError",
     "evalue": "Missing parentheses in call to 'print' (<ipython-input-2-accaed216897>, line 64)",
     "output_type": "error",
     "traceback": [
      "\u001b[1;36m  File \u001b[1;32m\"<ipython-input-2-accaed216897>\"\u001b[1;36m, line \u001b[1;32m64\u001b[0m\n\u001b[1;33m    print 'normal'\u001b[0m\n\u001b[1;37m                 ^\u001b[0m\n\u001b[1;31mSyntaxError\u001b[0m\u001b[1;31m:\u001b[0m Missing parentheses in call to 'print'\n"
     ]
    }
   ],
   "source": [
    "WindowDurationInSeconds = 50.0*10**-3\n",
    "ShiftDurationInSeconds = 10.0*10**-3\n",
    "fps = 44100.0\n",
    "WindowFrameCount = fps*WindowDurationInSeconds\n",
    "ShiftFrameCount = fps*ShiftDurationInSeconds\n",
    "\n",
    "def ProcessSoundFile(namepath, revisepath):\n",
    "    s = sf.SoundFile(namepath, 'r')\n",
    "    #print s.tell()\n",
    "    sdata = s.read()\n",
    "    WindowDurationInSeconds = 50.0*10**-3\n",
    "    \n",
    "    filelength = sdata.shape[0]\n",
    "    \n",
    "    passenergies = []\n",
    "    energies = []\n",
    "    \n",
    "    s2 = sf.SoundFile(revisepath,'w',s.samplerate, s.channels, s.subtype, s.endian)\n",
    "    for windowIndex in range(0, filelength,int(ShiftFrameCount)):\n",
    "    #for windowIndex in range(0,1):\n",
    "        windowStartIndex = windowIndex\n",
    "        windowEndIndex = min(windowIndex + WindowFrameCount, filelength)\n",
    "        shiftEndIndex = min(windowIndex + ShiftFrameCount, filelength)\n",
    "        # only look at left channel for now, index 0\n",
    "        thiswindow = sdata[windowStartIndex:windowEndIndex,0]\n",
    "        energy = np.dot(thiswindow,thiswindow) / (windowEndIndex-windowStartIndex)\n",
    "        energies.append(energy)\n",
    "        # threshold\n",
    "        if (energy > 0.0001):\n",
    "            passenergies.append(energy)\n",
    "            s2.write(sdata[windowStartIndex:shiftEndIndex,:])\n",
    "\n",
    "    s2.close()\n",
    "    s.close()\n",
    "   \n",
    "    plt.figure()\n",
    "    time = range(0, len(energies))\n",
    "    plt.plot(time,energies)\n",
    "\n",
    "    plt.ylabel('energy')\n",
    "    plt.xlabel('window index')\n",
    "    \n",
    "    plt.figure()\n",
    "    time = range(0, len(passenergies))\n",
    "    plt.plot(time,passenergies)\n",
    "\n",
    "    plt.ylabel('energy')\n",
    "    plt.xlabel('window index')\n",
    "\n",
    "path = '/Users/carolinekim/Documents/AVP/'\n",
    "normpath = path + 'Normal/'\n",
    "nasalpath = path + 'Nasalized/'\n",
    "\n",
    "filename = 'CK_0010'\n",
    "\n",
    "namepath_nrm = normpath+filename+'.wav'\n",
    "revisepath_nrm = normpath+filename+'_EF.wav'\n",
    "namepath_nsl = nasalpath+filename+'.wav'\n",
    "revisepath_nsl = nasalpath+filename+'_EF.wav'\n",
    "%matplotlib inline\n",
    "    \n",
    "ProcessSoundFile(namepath_nrm, revisepath_nrm)   \n",
    "ProcessSoundFile(namepath_nsl, revisepath_nsl)\n",
    "print 'normal'\n",
    "IPython.display.display(IPython.display.Audio(namepath_nrm))\n",
    "print 'normal EF'\n",
    "IPython.display.display(IPython.display.Audio(revisepath_nrm))\n",
    "print 'nasal'\n",
    "IPython.display.display(IPython.display.Audio(namepath_nsl))\n",
    "print 'nasal EF'\n",
    "IPython.display.display(IPython.display.Audio(revisepath_nsl))"
   ]
  },
  {
   "cell_type": "code",
   "execution_count": null,
   "metadata": {
    "collapsed": true
   },
   "outputs": [],
   "source": []
  }
 ],
 "metadata": {
  "kernelspec": {
   "display_name": "Python 3",
   "language": "python",
   "name": "python3"
  },
  "language_info": {
   "codemirror_mode": {
    "name": "ipython",
    "version": 3
   },
   "file_extension": ".py",
   "mimetype": "text/x-python",
   "name": "python",
   "nbconvert_exporter": "python",
   "pygments_lexer": "ipython3",
   "version": "3.5.1"
  }
 },
 "nbformat": 4,
 "nbformat_minor": 0
}
